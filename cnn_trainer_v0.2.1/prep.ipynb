{
 "cells": [
  {
   "cell_type": "code",
   "execution_count": 9,
   "metadata": {},
   "outputs": [],
   "source": [
    "from importTDP_lib import *"
   ]
  },
  {
   "cell_type": "code",
   "execution_count": 22,
   "metadata": {},
   "outputs": [
    {
     "name": "stdout",
     "output_type": "stream",
     "text": [
      "['airmix_helium_leak_full', 'delta_od_id', 'high_decrease', 'high_od+id', 'high_recovery', 'high_tdp', 'low_increase', 'low_recovery', 'low_tdp', 'normal_decrease', 'normal_ID-OD', 'normal_increase', 'normal_OD-ID', 'other_all', 'revert']\n"
     ]
    }
   ],
   "source": [
    "dir_data_path = r\"C:\\Users\\1000303969\\OneDrive - Western Digital\\work\\tdp classification\\data\\temp_classify\"\n",
    "dir_data_folder = os.listdir(dir_data_path)\n",
    "print(dir_data_folder)"
   ]
  },
  {
   "cell_type": "code",
   "execution_count": 23,
   "metadata": {},
   "outputs": [
    {
     "data": {
      "text/html": [
       "<div>\n",
       "<style scoped>\n",
       "    .dataframe tbody tr th:only-of-type {\n",
       "        vertical-align: middle;\n",
       "    }\n",
       "\n",
       "    .dataframe tbody tr th {\n",
       "        vertical-align: top;\n",
       "    }\n",
       "\n",
       "    .dataframe thead th {\n",
       "        text-align: right;\n",
       "    }\n",
       "</style>\n",
       "<table border=\"1\" class=\"dataframe\">\n",
       "  <thead>\n",
       "    <tr style=\"text-align: right;\">\n",
       "      <th></th>\n",
       "      <th>hddsn</th>\n",
       "      <th>failhead</th>\n",
       "      <th>filename</th>\n",
       "      <th>class</th>\n",
       "    </tr>\n",
       "  </thead>\n",
       "  <tbody>\n",
       "  </tbody>\n",
       "</table>\n",
       "</div>"
      ],
      "text/plain": [
       "Empty DataFrame\n",
       "Columns: [hddsn, failhead, filename, class]\n",
       "Index: []"
      ]
     },
     "execution_count": 23,
     "metadata": {},
     "output_type": "execute_result"
    }
   ],
   "source": [
    "cols = [\"hddsn\", \"failhead\", \"filename\", \"class\"]\n",
    "df = pd.DataFrame(columns=cols)\n",
    "df"
   ]
  },
  {
   "cell_type": "code",
   "execution_count": 27,
   "metadata": {},
   "outputs": [],
   "source": [
    "hddsn_list = []\n",
    "failhead_list = []\n",
    "filename_list = []\n",
    "class_list = []\n",
    "\n",
    "for folder in dir_data_folder:\n",
    "    for file in os.listdir(os.path.join(dir_data_path, folder)):\n",
    "        hddsn = file.split(\".\")[0].split(\"_\")[0]\n",
    "        failhead = file.split(\".\")[0].split(\"_\")[1]\n",
    "        hddsn_list.append(hddsn)\n",
    "        failhead_list.append(failhead)\n",
    "        filename_list.append(file)\n",
    "        class_list.append(folder)\n",
    "\n",
    "df[\"hddsn\"] = hddsn_list\n",
    "df[\"failhead\"] = failhead_list\n",
    "df[\"filename\"] = filename_list\n",
    "df[\"class\"] = class_list"
   ]
  },
  {
   "cell_type": "code",
   "execution_count": null,
   "metadata": {},
   "outputs": [],
   "source": []
  }
 ],
 "metadata": {
  "kernelspec": {
   "display_name": "Python 3",
   "language": "python",
   "name": "python3"
  },
  "language_info": {
   "codemirror_mode": {
    "name": "ipython",
    "version": 3
   },
   "file_extension": ".py",
   "mimetype": "text/x-python",
   "name": "python",
   "nbconvert_exporter": "python",
   "pygments_lexer": "ipython3",
   "version": "3.10.7"
  }
 },
 "nbformat": 4,
 "nbformat_minor": 2
}
